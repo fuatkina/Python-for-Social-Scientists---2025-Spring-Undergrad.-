{
 "cells": [
  {
   "cell_type": "markdown",
   "metadata": {
    "id": "TXQNWNPeDzuF"
   },
   "source": [
    "# Introduction to Scientific Programming in Python - 2"
   ]
  },
  {
   "cell_type": "markdown",
   "metadata": {},
   "source": [
    "Created by Vahid Rostami. Accessed via Social ComQuant project https://socialcomquant.ku.edu.tr/,\n",
    "\n",
    "and revised by M.Fuat Kına."
   ]
  },
  {
   "cell_type": "markdown",
   "metadata": {
    "id": "dO4KDBceDzuG"
   },
   "source": [
    "Important functions that are frequently used are stored in libraries. In this second day we will introduce two importan python libraries, namely **Numpy** and **Matplotlib**"
   ]
  },
  {
   "cell_type": "markdown",
   "metadata": {
    "id": "L0aZvaKjgfw9"
   },
   "source": [
    "## Numpy"
   ]
  },
  {
   "cell_type": "markdown",
   "metadata": {
    "id": "fwW6O4VegfNM"
   },
   "source": [
    "Numpy (Numerical Python) is a core library in Python for numerical calculation. It consists of multidimensional arrays and a rich collection of methods for applying mathematical operations on those arrays."
   ]
  },
  {
   "cell_type": "code",
   "execution_count": null,
   "metadata": {},
   "outputs": [],
   "source": [
    "# Let's look at nested lists\n",
    "\n",
    "my_list = [1,2,5,[0,1],[2,3,5]]"
   ]
  },
  {
   "cell_type": "code",
   "execution_count": null,
   "metadata": {},
   "outputs": [],
   "source": [
    "my_list[4]"
   ]
  },
  {
   "cell_type": "markdown",
   "metadata": {
    "id": "kFkbdNg9kR-G"
   },
   "source": [
    "### Numpy Arrays"
   ]
  },
  {
   "cell_type": "markdown",
   "metadata": {
    "id": "Ham1irnhkVYd"
   },
   "source": [
    "Numpy arrays are great alternatives to Python Lists. Specifically for scientific computing and numerical calculation numpy arrays are much easier to handle and do computation. \n",
    "\n",
    "How to create a numpy array:"
   ]
  },
  {
   "cell_type": "code",
   "execution_count": null,
   "metadata": {
    "colab": {
     "base_uri": "https://localhost:8080/"
    },
    "id": "w8BlLsaqhXSS",
    "outputId": "a26e04d2-9996-4746-fd56-f1c0d981450e"
   },
   "outputs": [],
   "source": [
    "# first we import numpy. Note that as we gonna call numpy again and again\n",
    "# it is convenient to give a short name to like np\n",
    "import numpy as np\n",
    "\n",
    "arr1d = np.array([1,2,3]) # Create a one dimensional array\n",
    "arr2d = np.array( [ [1,2,3] , [4,5,6] ] ) # Create two dimensional array"
   ]
  },
  {
   "cell_type": "code",
   "execution_count": null,
   "metadata": {
    "tags": []
   },
   "outputs": [],
   "source": [
    "type(arr1d)"
   ]
  },
  {
   "cell_type": "code",
   "execution_count": null,
   "metadata": {
    "tags": []
   },
   "outputs": [],
   "source": [
    "print(arr1d.shape)\n",
    "print(arr2d.shape)"
   ]
  },
  {
   "cell_type": "code",
   "execution_count": null,
   "metadata": {
    "tags": []
   },
   "outputs": [],
   "source": [
    "arr2d"
   ]
  },
  {
   "cell_type": "markdown",
   "metadata": {},
   "source": [
    "###### Not: An n × m matrix A is a rectangular array of numbers with n rows and m columns."
   ]
  },
  {
   "cell_type": "markdown",
   "metadata": {
    "id": "-GXdVNrSm65v"
   },
   "source": [
    "Numpy also provides many functions to create arrays:"
   ]
  },
  {
   "cell_type": "code",
   "execution_count": null,
   "metadata": {
    "id": "EhstX5fSnD4u",
    "tags": []
   },
   "outputs": [],
   "source": [
    "import numpy as np\n",
    "\n",
    "a = np.zeros((2,2))   # Create an array of all zeros\n",
    "print(a)              # Prints \"[[ 0.  0.]\n",
    "                      #          [ 0.  0.]]\""
   ]
  },
  {
   "cell_type": "code",
   "execution_count": null,
   "metadata": {},
   "outputs": [],
   "source": [
    "b = np.ones((1,2))    # Create an array of all ones\n",
    "print(b)              # Prints \"[[ 1.  1.]]\""
   ]
  },
  {
   "cell_type": "code",
   "execution_count": null,
   "metadata": {},
   "outputs": [],
   "source": [
    "c = np.full((2,2), 7)  # Create a constant array\n",
    "print(c)               # Prints \"[[ 7.  7.]\n",
    "                       #          [ 7.  7.]]\""
   ]
  },
  {
   "cell_type": "code",
   "execution_count": null,
   "metadata": {},
   "outputs": [],
   "source": [
    "d = np.eye(2)         # Create a 2x2 identity matrix\n",
    "print(d)              # Prints \"[[ 1.  0.]\n",
    "                      #          [ 0.  1.]]\""
   ]
  },
  {
   "cell_type": "code",
   "execution_count": null,
   "metadata": {},
   "outputs": [],
   "source": [
    "e = np.random.random((2,2))  # Create an array filled with random values\n",
    "print(e)                     # Might print \"[[ 0.91940167  0.08143941]\n",
    "                             #               [ 0.68744134  0.87236687]]\""
   ]
  },
  {
   "cell_type": "markdown",
   "metadata": {
    "id": "Z1vak3DjmM0X"
   },
   "source": [
    "### Array indexing"
   ]
  },
  {
   "cell_type": "markdown",
   "metadata": {
    "id": "oZtpmuWamQeX"
   },
   "source": [
    "To access any element(s) in a numpy array we use index, something similar to Python lists with a difference that for each dimension of array we will have one index. For example extracting the second value of the first dimension of the arr2d would be: `arr2d[0,2]`. "
   ]
  },
  {
   "cell_type": "markdown",
   "metadata": {
    "id": "M1kt-5tUn85u"
   },
   "source": [
    "Example:"
   ]
  },
  {
   "cell_type": "code",
   "execution_count": null,
   "metadata": {
    "colab": {
     "base_uri": "https://localhost:8080/"
    },
    "id": "Cvtsn1J6n_j6",
    "outputId": "52f19395-f55a-4780-e9ca-56970e6d3bbc",
    "tags": []
   },
   "outputs": [],
   "source": [
    "import numpy as np\n",
    "\n",
    "# Create the following rank 2 array with shape (3, 4)\n",
    "# [[ 3  7  3  4]\n",
    "#  [ 5  6  7  2]\n",
    "#  [ 2  1  1  1]]\n",
    "a = np.array([[3,7,3,4], [5,6,7,2], [2,1,1,1]])\n",
    "\n",
    "# Use slicing to pull out the subarray consisting of the first 2 rows\n",
    "# and columns 1 and 2; b is the following array of shape (2, 2):\n",
    "print(a)"
   ]
  },
  {
   "cell_type": "code",
   "execution_count": null,
   "metadata": {
    "tags": []
   },
   "outputs": [],
   "source": [
    "b = a[:2, 1:3]\n",
    "# A slice of an array is a view into the same data, so modifying it\n",
    "# will modify the original array.\n",
    "print(b)"
   ]
  },
  {
   "cell_type": "code",
   "execution_count": null,
   "metadata": {},
   "outputs": [],
   "source": [
    "print(a[0, 1])   # Prints \"7\""
   ]
  },
  {
   "cell_type": "code",
   "execution_count": null,
   "metadata": {},
   "outputs": [],
   "source": [
    "b[0, 0] = 3     # b[0, 0] is the same piece of data as a[0, 1]\n",
    "print(a[0, 1])   # Prints \"3\""
   ]
  },
  {
   "cell_type": "code",
   "execution_count": null,
   "metadata": {},
   "outputs": [],
   "source": [
    "print(b)"
   ]
  },
  {
   "cell_type": "code",
   "execution_count": null,
   "metadata": {
    "tags": []
   },
   "outputs": [],
   "source": [
    "print(a)"
   ]
  },
  {
   "cell_type": "markdown",
   "metadata": {
    "id": "bVxSnR8kl8Zo"
   },
   "source": [
    "There are many usefull functions in Numpy. Here we mention some of them."
   ]
  },
  {
   "cell_type": "markdown",
   "metadata": {
    "id": "pjgVfk_2oOFK"
   },
   "source": [
    "append, where, add, random, reshape, vstack, mean, median, std, isnan,"
   ]
  },
  {
   "cell_type": "markdown",
   "metadata": {
    "id": "vJ6QncX-oQGg"
   },
   "source": [
    "### Exercises (numpy)"
   ]
  },
  {
   "cell_type": "markdown",
   "metadata": {
    "id": "khxrA6wooSyS"
   },
   "source": [
    "1- Create a 3×3 numpy null array (all the values are zeros)"
   ]
  },
  {
   "cell_type": "code",
   "execution_count": null,
   "metadata": {
    "executionInfo": {
     "elapsed": 698,
     "status": "ok",
     "timestamp": 1657093736595,
     "user": {
      "displayName": "Fuat Kına",
      "userId": "14133596244219008738"
     },
     "user_tz": -180
    },
    "id": "QeLPEPlT3o55"
   },
   "outputs": [],
   "source": [
    "np.zeros((3,3))"
   ]
  },
  {
   "cell_type": "markdown",
   "metadata": {
    "id": "kZveceYSoV9W"
   },
   "source": [
    "*2*- Extract all odd numbers from an array \n",
    "\n",
    "hint: input: [0,1,2,3,4,5,6,7] and desired output: [1,3,5,7]"
   ]
  },
  {
   "cell_type": "code",
   "execution_count": null,
   "metadata": {
    "executionInfo": {
     "elapsed": 330,
     "status": "ok",
     "timestamp": 1657093733109,
     "user": {
      "displayName": "Fuat Kına",
      "userId": "14133596244219008738"
     },
     "user_tz": -180
    },
    "id": "BgoRemFS459K"
   },
   "outputs": [],
   "source": [
    "x = np.array([0,1,2,3,4,5,6,7])\n",
    "y = np.array([])\n",
    "\n",
    "for ele in x:\n",
    "    if ele % 2 != 0:\n",
    "        y = np.append(y, ele)\n",
    "    else:\n",
    "        continue\n",
    "        \n",
    "y"
   ]
  },
  {
   "cell_type": "markdown",
   "metadata": {
    "id": "joH8PWVvpLbY"
   },
   "source": [
    "3- Convert a 1D array to a 2D array with 2 rows\n",
    "\n",
    "hint: input: [0,1,2,3,4,5,6,7], desired output: array([[0,1,2,3], [4,5,6,7]])"
   ]
  },
  {
   "cell_type": "code",
   "execution_count": null,
   "metadata": {
    "executionInfo": {
     "elapsed": 9,
     "status": "ok",
     "timestamp": 1657093730032,
     "user": {
      "displayName": "Fuat Kına",
      "userId": "14133596244219008738"
     },
     "user_tz": -180
    },
    "id": "SGOrHvPn86i1"
   },
   "outputs": [],
   "source": [
    "x = np.array([0,1,2,3,4,5,6,7])\n",
    "\n",
    "x.shape"
   ]
  },
  {
   "cell_type": "code",
   "execution_count": null,
   "metadata": {
    "tags": []
   },
   "outputs": [],
   "source": [
    "x.reshape(2,4)"
   ]
  },
  {
   "cell_type": "code",
   "execution_count": null,
   "metadata": {
    "tags": []
   },
   "outputs": [],
   "source": [
    "new_column = int(len(x)/2)"
   ]
  },
  {
   "cell_type": "code",
   "execution_count": null,
   "metadata": {
    "tags": []
   },
   "outputs": [],
   "source": [
    "x_revised = x.reshape(2,new_column) # it gives an output, but does not rewrite the object of x\n",
    "print(x_revised)\n",
    "#OR x_revised = np.reshape(x,(2,new_column))"
   ]
  },
  {
   "cell_type": "code",
   "execution_count": null,
   "metadata": {
    "tags": []
   },
   "outputs": [],
   "source": [
    "x_revised = np.reshape(x,(2,-1)) # the unspecified value is inferred by the program\n",
    "print(x_revised)"
   ]
  },
  {
   "cell_type": "markdown",
   "metadata": {
    "id": "4Y4bZOo7psbY"
   },
   "source": [
    "4- Stack arrays `first_array` and `second_array` vertically.\n",
    "\n",
    "```\n",
    "first_array = np.arange(10).reshape(2,-1)\n",
    "second_array = np.repeat(1, 10).reshape(2,-1)\n",
    "```"
   ]
  },
  {
   "cell_type": "code",
   "execution_count": null,
   "metadata": {
    "executionInfo": {
     "elapsed": 381,
     "status": "ok",
     "timestamp": 1657093727518,
     "user": {
      "displayName": "Fuat Kına",
      "userId": "14133596244219008738"
     },
     "user_tz": -180
    },
    "id": "pkOUbP2D9K88"
   },
   "outputs": [],
   "source": [
    "first_array = np.arange(10)\n",
    "print(first_array)\n",
    "print(first_array.shape)"
   ]
  },
  {
   "cell_type": "code",
   "execution_count": null,
   "metadata": {},
   "outputs": [],
   "source": [
    "first_array = first_array.reshape(2,-1)\n",
    "print(first_array)\n",
    "print(first_array.shape)"
   ]
  },
  {
   "cell_type": "code",
   "execution_count": null,
   "metadata": {},
   "outputs": [],
   "source": [
    "second_array = np.repeat(1, 10)\n",
    "print(second_array)\n",
    "print(second_array.shape)"
   ]
  },
  {
   "cell_type": "code",
   "execution_count": null,
   "metadata": {},
   "outputs": [],
   "source": [
    "second_array = second_array.reshape(2,-1)\n",
    "print(second_array)\n",
    "print(second_array.shape)"
   ]
  },
  {
   "cell_type": "code",
   "execution_count": null,
   "metadata": {},
   "outputs": [],
   "source": [
    "stack = np.append(first_array, second_array)\n",
    "print(stack)\n",
    "print(stack.shape)"
   ]
  },
  {
   "cell_type": "code",
   "execution_count": null,
   "metadata": {},
   "outputs": [],
   "source": [
    "stack = np.reshape(stack,(4,-1))\n",
    "print(stack)\n",
    "print(stack.shape)"
   ]
  },
  {
   "cell_type": "markdown",
   "metadata": {
    "id": "OgUEFx-Yqnah"
   },
   "source": [
    "5- Get items if they are larger than 5 and smaller than 10, from an array of ```a```.\n",
    "\n",
    "```\n",
    "a = np.arange(0,15,2)\n",
    "```"
   ]
  },
  {
   "cell_type": "code",
   "execution_count": null,
   "metadata": {},
   "outputs": [],
   "source": [
    "a = np.arange(0,15,2)\n",
    "a"
   ]
  },
  {
   "cell_type": "code",
   "execution_count": null,
   "metadata": {
    "executionInfo": {
     "elapsed": 363,
     "status": "ok",
     "timestamp": 1657093723601,
     "user": {
      "displayName": "Fuat Kına",
      "userId": "14133596244219008738"
     },
     "user_tz": -180
    },
    "id": "Jff4uRae94hQ"
   },
   "outputs": [],
   "source": [
    "a = np.arange(0,15,2)\n",
    "b = np.array([])\n",
    "\n",
    "for ele in a:\n",
    "    if ele < 10 and ele > 5:\n",
    "        b = np.append(b,ele)\n",
    "        \n",
    "print(b)"
   ]
  },
  {
   "cell_type": "markdown",
   "metadata": {
    "id": "KoaBySONrqFU"
   },
   "source": [
    "6- Find the mean, median and standard deviation of a."
   ]
  },
  {
   "cell_type": "code",
   "execution_count": null,
   "metadata": {
    "executionInfo": {
     "elapsed": 4,
     "status": "ok",
     "timestamp": 1657093720479,
     "user": {
      "displayName": "Fuat Kına",
      "userId": "14133596244219008738"
     },
     "user_tz": -180
    },
    "id": "3MPbE8VB-eX1"
   },
   "outputs": [],
   "source": [
    "print(np.mean(a))\n",
    "print(np.median(a))\n",
    "print(np.std(a))"
   ]
  },
  {
   "cell_type": "markdown",
   "metadata": {
    "id": "G2JRKJKKDzuN"
   },
   "source": [
    "7- What are the indices of `a`'s elements, which are more than 0.5. Define these indices in a new variable called `idx`.\n",
    "\n",
    "```\n",
    "a = np.random.rand(1000)\n",
    "```"
   ]
  },
  {
   "cell_type": "code",
   "execution_count": null,
   "metadata": {
    "executionInfo": {
     "elapsed": 239,
     "status": "ok",
     "timestamp": 1657093715770,
     "user": {
      "displayName": "Fuat Kına",
      "userId": "14133596244219008738"
     },
     "user_tz": -180
    },
    "id": "lFHjJ4lc-1Uv"
   },
   "outputs": [],
   "source": [
    "a = np.random.random(1000)\n",
    "idx = np.array([])\n",
    "\n",
    "for i in range(len(a)):\n",
    "    ele = a[i]\n",
    "    if ele > 0.5:\n",
    "        idx = np.append(idx,i)\n",
    "\n",
    "print(len(idx))"
   ]
  },
  {
   "cell_type": "markdown",
   "metadata": {
    "id": "oZ8zKPDZDzuN"
   },
   "source": [
    "8- Reverse a vector (first element becomes last)."
   ]
  },
  {
   "cell_type": "code",
   "execution_count": null,
   "metadata": {
    "executionInfo": {
     "elapsed": 345,
     "status": "ok",
     "timestamp": 1657093712717,
     "user": {
      "displayName": "Fuat Kına",
      "userId": "14133596244219008738"
     },
     "user_tz": -180
    },
    "id": "tit_6zsy_64o"
   },
   "outputs": [],
   "source": [
    "x = np.array([0, 1, 2, 3, 4, 5, 6, 7])\n",
    "\n",
    "rev = np.flip(x)\n",
    "rev"
   ]
  },
  {
   "cell_type": "code",
   "execution_count": null,
   "metadata": {},
   "outputs": [],
   "source": [
    "# OR\n",
    "\n",
    "x[::-1]"
   ]
  },
  {
   "cell_type": "markdown",
   "metadata": {
    "id": "B_WZEIT-DzuN"
   },
   "source": [
    "9- Create random vector of size 10 and insert \"0\" before the maximum value."
   ]
  },
  {
   "cell_type": "code",
   "execution_count": null,
   "metadata": {
    "executionInfo": {
     "elapsed": 268,
     "status": "ok",
     "timestamp": 1657093710323,
     "user": {
      "displayName": "Fuat Kına",
      "userId": "14133596244219008738"
     },
     "user_tz": -180
    },
    "id": "DiJoZ6OfAVb6"
   },
   "outputs": [],
   "source": [
    "vector = np.random.rand(10)\n",
    "print(vector)"
   ]
  },
  {
   "cell_type": "code",
   "execution_count": null,
   "metadata": {},
   "outputs": [],
   "source": [
    "print(np.argmax(vector))"
   ]
  },
  {
   "cell_type": "code",
   "execution_count": null,
   "metadata": {},
   "outputs": [],
   "source": [
    "vector_rev = np.insert(vector, np.argmax(vector), 0)\n",
    "print(vector_rev)"
   ]
  },
  {
   "cell_type": "markdown",
   "metadata": {
    "id": "aeTjuLwVDzuN"
   },
   "source": [
    "10- Subtract the mean of each row of a matrix."
   ]
  },
  {
   "cell_type": "code",
   "execution_count": null,
   "metadata": {
    "executionInfo": {
     "elapsed": 245,
     "status": "ok",
     "timestamp": 1657093705075,
     "user": {
      "displayName": "Fuat Kına",
      "userId": "14133596244219008738"
     },
     "user_tz": -180
    },
    "id": "aNoCG85bOMmF"
   },
   "outputs": [],
   "source": [
    "x = np.reshape(vector,(2,5))\n",
    "print(x)"
   ]
  },
  {
   "cell_type": "code",
   "execution_count": null,
   "metadata": {},
   "outputs": [],
   "source": [
    "mean = np.mean(x) #second argument of mean function present the axis rows = 1, columns = 0 always \n",
    "print(mean)\n",
    "\n",
    "row_means = np.mean(x, axis=1) #second argument of mean function present the axis rows = 1, columns = 0 always \n",
    "print(row_means)"
   ]
  },
  {
   "cell_type": "code",
   "execution_count": null,
   "metadata": {},
   "outputs": [],
   "source": [
    "column_means = np.mean(x, axis = 0)\n",
    "print(column_means)"
   ]
  },
  {
   "cell_type": "code",
   "execution_count": null,
   "metadata": {},
   "outputs": [],
   "source": [
    "row_means = np.mean(x, axis = 1)\n",
    "row_means"
   ]
  },
  {
   "cell_type": "code",
   "execution_count": null,
   "metadata": {},
   "outputs": [],
   "source": [
    "np.repeat(row_means, 5).shape"
   ]
  },
  {
   "cell_type": "code",
   "execution_count": null,
   "metadata": {},
   "outputs": [],
   "source": [
    "row_means_array = np.repeat(row_means, 5).reshape(2,5)\n",
    "row_means_array"
   ]
  },
  {
   "cell_type": "code",
   "execution_count": null,
   "metadata": {},
   "outputs": [],
   "source": [
    "final = x - row_means_array\n",
    "print(final)"
   ]
  },
  {
   "cell_type": "markdown",
   "metadata": {},
   "source": [
    "How does repeat function work?"
   ]
  },
  {
   "cell_type": "code",
   "execution_count": null,
   "metadata": {},
   "outputs": [],
   "source": [
    "print(np.repeat(3, 4))\n",
    "x = np.array([[1,2],[3,4]])\n",
    "print(x)\n",
    "print(np.repeat(x, 2))\n",
    "print(np.repeat(x, 3, axis=0))\n",
    "print(np.repeat(x, 3, axis=1))\n",
    "print(np.repeat(x, [1, 2], axis=0))"
   ]
  },
  {
   "cell_type": "markdown",
   "metadata": {
    "id": "Lp40FFAXDzuN"
   },
   "source": [
    "11- Based on worldometers.info website, the world population on 17th of February 2019 at 11:00 am is ~7684621550 and the average growth rate per day is ~107000. \n",
    "```\n",
    "# World population\n",
    "world_pop = 7684621550\n",
    "# average growth rate per day\n",
    "growth_rate = 107000\n",
    "```\n",
    "Create an array (call it: `world_pop_arr`) which shows the world population from 17th of February until 26th of February. Now create a dictionary with all these information and save the dictionary into a file using `numpy.save`.\n"
   ]
  },
  {
   "cell_type": "code",
   "execution_count": null,
   "metadata": {
    "tags": []
   },
   "outputs": [],
   "source": []
  },
  {
   "cell_type": "markdown",
   "metadata": {},
   "source": [
    "###### Not: the zip() function returns a zip object, which is an iterator of tuples where the first item in each passed iterator is paired together, and then the second item in each passed iterator are paired together etc."
   ]
  },
  {
   "cell_type": "markdown",
   "metadata": {
    "id": "5-DPDMibDzuN"
   },
   "source": [
    "12- Write a _time_resolved function_ for an arbitrary array and an arbitrary step (or window size) that you define."
   ]
  },
  {
   "cell_type": "markdown",
   "metadata": {},
   "source": [
    "The function will take three objects as inputs:\n",
    "`time_resolved(arr, w_size, shift)`\n",
    "\n",
    "When I ask python to print `time_resolved(arr,3,4)` for `arr=np.array([1,2,6,4,5,4,2,7,8,9])`,\n",
    "I expect to see `[4, 5, 4]` as the output of this function."
   ]
  },
  {
   "cell_type": "code",
   "execution_count": null,
   "metadata": {
    "executionInfo": {
     "elapsed": 283,
     "status": "ok",
     "timestamp": 1657093694107,
     "user": {
      "displayName": "Fuat Kına",
      "userId": "14133596244219008738"
     },
     "user_tz": -180
    },
    "id": "A7EZnFEzgeXT"
   },
   "outputs": [],
   "source": []
  },
  {
   "cell_type": "markdown",
   "metadata": {
    "id": "qJLrJFseWDVh"
   },
   "source": [
    "## Matplotlib"
   ]
  },
  {
   "cell_type": "markdown",
   "metadata": {
    "id": "zj_m17tLW9ev"
   },
   "source": [
    "Visualization is one of the most important segments of data analysis. It allows us visual access to huge amounts of data in a simple and powerful way. The core library in Python used for visualization is matplotlib. Matplotlib development started with the idea of emulating Matlab commands in Python. By importing the following module,\n",
    "```\n",
    "import matplotlib.pyplot as plt\n",
    "```\n",
    "one will have access to many functions which are similar to Matlab function for plotting. Let's create some simple plots to learn the important syntaxes."
   ]
  },
  {
   "cell_type": "code",
   "execution_count": null,
   "metadata": {
    "colab": {
     "base_uri": "https://localhost:8080/",
     "height": 297
    },
    "id": "kaGlR2GEZyAL",
    "outputId": "ae18e656-0bd7-4de4-acbf-aa352160a753"
   },
   "outputs": [],
   "source": [
    "import matplotlib.pyplot as plt \n",
    "\n",
    "# data to be plotted\n",
    "X = [1,2,3,4]\n",
    "Y = [10,22,30,40]\n",
    "\n",
    "# plot \n",
    "plt.plot(X, Y, 'r--1')\n",
    "# define xlabel\n",
    "plt.xlabel('X label')\n",
    "# define ylabel\n",
    "plt.ylabel('Y label')\n",
    "# show the plotted figure\n",
    "plt.show()"
   ]
  },
  {
   "cell_type": "markdown",
   "metadata": {
    "id": "k0cjiFFea8OJ"
   },
   "source": [
    "Check the following code and the produced figures. Can you tell what each line of code is doing? "
   ]
  },
  {
   "cell_type": "code",
   "execution_count": null,
   "metadata": {
    "colab": {
     "base_uri": "https://localhost:8080/",
     "height": 300
    },
    "id": "z7WaNnacaytl",
    "outputId": "2b09afd7-11bd-4ef8-edc4-77eb2e5816a6"
   },
   "outputs": [],
   "source": [
    "import numpy as np\n",
    "import matplotlib.pyplot as plt\n",
    "\n",
    "# evenly sampled time at 200ms intervals\n",
    "t = np.arange(0, 5, 0.2)\n",
    "\n",
    "# red dashes, blue squares and green triangles\n",
    "plt.plot(t, t, 'r', label='line one', linewidth=5)\n",
    "plt.plot(t, t**2, 'b--^',label='line two', linewidth=2)\n",
    "plt.plot(t,t**3, 'g-o', label='marker', markersize = 4)\n",
    "plt.legend()\n",
    "plt.grid(True, alpha=0.5 ,color='k')\n",
    "plt.show()"
   ]
  },
  {
   "cell_type": "code",
   "execution_count": null,
   "metadata": {
    "colab": {
     "base_uri": "https://localhost:8080/",
     "height": 376
    },
    "id": "g7GUwfxIccxn",
    "outputId": "f5d4d6ed-2f17-4cbb-bd6e-2c6b92d2e6e2"
   },
   "outputs": [],
   "source": [
    "import matplotlib.pyplot as plt\n",
    "population_age = [22,55,62,45,21,22,34,42,42,4,2,102,95,85,55,110,120,70,65,55,111,115,80,75,65,54,44,43,42,48]"
   ]
  },
  {
   "cell_type": "code",
   "execution_count": null,
   "metadata": {
    "tags": []
   },
   "outputs": [],
   "source": [
    "bins = [0,10,20,30,40,50,60,70,80,90,100]\n",
    "\n",
    "plt.hist(population_age, bins, histtype='bar', rwidth=0.8)\n",
    "plt.xlabel('age groups')\n",
    "plt.ylabel('Number of people')\n",
    "plt.title('Histogram')\n",
    "plt.show()"
   ]
  },
  {
   "cell_type": "markdown",
   "metadata": {
    "id": "ZNzGhKI0ce1o"
   },
   "source": [
    "What you tried to do with the last two figures is the best way of learning matplotlib syntaxes and produces whatever figure you like. Probably you did the following: Checking the figure axes, colors, lines, labels, bars, etc and trying to figure out the line in the code responsible for that feature. This is a very efficient way to create figures and add whatever details you like. One of the best collections for these examples can be found at the following link:\n",
    "\n",
    "[https://matplotlib.org/gallery.html](https://matplotlib.org/gallery.html )\n",
    "\n",
    "Click on the link and find the figure you are interested in and check the code for that figure.\n",
    "\n",
    "As a good exercise try to find out how one can plot multiple subplots in one plot?\n"
   ]
  },
  {
   "cell_type": "markdown",
   "metadata": {
    "id": "yBxEwwDutA65"
   },
   "source": [
    "### Exercises (matplotlib)"
   ]
  },
  {
   "cell_type": "markdown",
   "metadata": {
    "id": "EfGLmmLftDyD"
   },
   "source": [
    "1- Plot two or more lines with legends, different widths and colors."
   ]
  },
  {
   "cell_type": "code",
   "execution_count": null,
   "metadata": {
    "executionInfo": {
     "elapsed": 266,
     "status": "ok",
     "timestamp": 1657093674395,
     "user": {
      "displayName": "Fuat Kına",
      "userId": "14133596244219008738"
     },
     "user_tz": -180
    },
    "id": "Fr76zhy0ZfRZ"
   },
   "outputs": [],
   "source": [
    "import matplotlib.pyplot as plt \n",
    "\n",
    "# data to be plotted\n",
    "X = [1,2,3,4]\n",
    "Y = [10,22,30,40]\n",
    "Z = [3,5,7,9]\n",
    "Q = [3,15,27,39]\n",
    "\n",
    "plt.plot(X, Y, 'r-o', label=\"Y\", alpha=0.4, linewidth=2)\n",
    "plt.plot(X, Z, 'k--^', label=\"Z\", linewidth=1)\n",
    "plt.plot(X, Q, 'g-+', label=\"Q\", linewidth=1)\n",
    "# define xlabel\n",
    "plt.xlabel('X label',)\n",
    "# define ylabel\n",
    "plt.ylabel('Y label')\n",
    "plt.grid(True)\n",
    "\n",
    "plt.title(\"Başlık\")\n",
    "\n",
    "plt.legend(loc=2)\n",
    "\n",
    "plt.show"
   ]
  },
  {
   "cell_type": "markdown",
   "metadata": {
    "id": "q4K7S1SKDzuP"
   },
   "source": [
    "2- Generate random values from 0 to 1000 and plot these values. For the color of the plot, choose blue color for the values below 500 and red for those above 500."
   ]
  },
  {
   "cell_type": "code",
   "execution_count": null,
   "metadata": {
    "executionInfo": {
     "elapsed": 12,
     "status": "ok",
     "timestamp": 1657093667155,
     "user": {
      "displayName": "Fuat Kına",
      "userId": "14133596244219008738"
     },
     "user_tz": -180
    },
    "id": "lmHAqf5VcUT1"
   },
   "outputs": [],
   "source": [
    "import numpy as np\n",
    "\n",
    "data=np.random.randint(0,1000,50)\n",
    "x = np.arange(50)\n",
    "\n",
    "data_red=np.array([])\n",
    "data_red_index=np.array([])\n",
    "\n",
    "for i in range(len(data)):\n",
    "    if data[i]>500:\n",
    "        data_red = np.append(data_red, data[i])\n",
    "        data_red_index = np.append(data_red_index, i)\n",
    "\n",
    "data_blue=np.array([])\n",
    "data_blue_index=np.array([])\n",
    "\n",
    "for i in range(len(data)):\n",
    "    if data[i]<=500:\n",
    "        data_blue = np.append(data_blue, data[i])\n",
    "        data_blue_index = np.append(data_blue_index, i)\n",
    "plt.plot(x,data,\"k--\", alpha=0.5)        \n",
    "plt.plot(data_blue_index,data_blue,\"b*\")\n",
    "plt.plot(data_red_index,data_red,\"r^\")\n",
    "plt.show()"
   ]
  },
  {
   "cell_type": "markdown",
   "metadata": {
    "id": "PY0dA5cFDzuQ"
   },
   "source": [
    "3- Now apply the _time_resolved analysis_ function that you wrote during numpy exercise on the data from exercise 4 and plot it in a new plot."
   ]
  },
  {
   "cell_type": "code",
   "execution_count": null,
   "metadata": {},
   "outputs": [],
   "source": [
    "def time_resolved(arr,w_size,shift):\n",
    "    sub_arr=np.array([])\n",
    "    for i in range(shift-1,shift+w_size-1):\n",
    "        sub_arr=np.append(sub_arr,arr[i])\n",
    "    return sub_arr"
   ]
  },
  {
   "cell_type": "code",
   "execution_count": null,
   "metadata": {
    "executionInfo": {
     "elapsed": 12,
     "status": "ok",
     "timestamp": 1657093667154,
     "user": {
      "displayName": "Fuat Kına",
      "userId": "14133596244219008738"
     },
     "user_tz": -180
    },
    "id": "3mJlf0PR5X_G"
   },
   "outputs": [],
   "source": [
    "import matplotlib.pyplot as plt \n",
    "\n",
    "rand_val=np.random.randint(0,1000,50)\n",
    "print(rand_val)\n",
    "nr=np.arange(1,51)\n",
    "print(nr)\n",
    "plt.plot(nr, rand_val, 'r')\n",
    "\n",
    "w_size = int(input())\n",
    "shift = int(input())\n",
    "\n",
    "sub_arr = time_resolved(rand_val,w_size,shift)\n",
    "nr2=np.arange(shift,w_size+shift)\n",
    "\n",
    "print(sub_arr)\n",
    "plt.plot(nr2,sub_arr,'b')\n",
    "plt.show"
   ]
  }
 ],
 "metadata": {
  "colab": {
   "collapsed_sections": [],
   "name": "Numpy and Matplotit.ipynb",
   "provenance": [
    {
     "file_id": "1Sv683Nckm7EdDBgIkWEYnBa5W-IxAAS5",
     "timestamp": 1657093636361
    }
   ]
  },
  "kernelspec": {
   "display_name": "Python 3 (ipykernel)",
   "language": "python",
   "name": "python3"
  },
  "language_info": {
   "codemirror_mode": {
    "name": "ipython",
    "version": 3
   },
   "file_extension": ".py",
   "mimetype": "text/x-python",
   "name": "python",
   "nbconvert_exporter": "python",
   "pygments_lexer": "ipython3",
   "version": "3.11.5"
  }
 },
 "nbformat": 4,
 "nbformat_minor": 4
}
